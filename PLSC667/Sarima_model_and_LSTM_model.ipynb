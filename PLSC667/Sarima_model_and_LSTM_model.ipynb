{
  "nbformat": 4,
  "nbformat_minor": 0,
  "metadata": {
    "colab": {
      "provenance": [],
      "mount_file_id": "1qEE3FLKeliKtvXKH5hb8Agt9Ard4BMUU",
      "authorship_tag": "ABX9TyNWKNq00fOp9B/qKdvGQ9yK",
      "include_colab_link": true
    },
    "kernelspec": {
      "name": "python3",
      "display_name": "Python 3"
    },
    "language_info": {
      "name": "python"
    }
  },
  "cells": [
    {
      "cell_type": "markdown",
      "metadata": {
        "id": "view-in-github",
        "colab_type": "text"
      },
      "source": [
        "<a href=\"https://colab.research.google.com/github/himal61559/DSPS_HAcharya/blob/main/PLSC667/Sarima_model_and_LSTM_model.ipynb\" target=\"_parent\"><img src=\"https://colab.research.google.com/assets/colab-badge.svg\" alt=\"Open In Colab\"/></a>"
      ]
    },
    {
      "cell_type": "markdown",
      "source": [
        "##Loading packages and dataframe"
      ],
      "metadata": {
        "id": "bv3RnZmeVBTk"
      }
    },
    {
      "cell_type": "code",
      "execution_count": 3,
      "metadata": {
        "colab": {
          "base_uri": "https://localhost:8080/"
        },
        "id": "sdWaOifrMnt5",
        "outputId": "1c20cd0c-d339-44c7-a439-c73454f48245"
      },
      "outputs": [
        {
          "output_type": "stream",
          "name": "stdout",
          "text": [
            "     Date      NDVI   air_temp   Gage Precipitation (Daily)(in)  \\\n",
            "0  1/1/10  0.537070      34.82                             0.02   \n",
            "1  1/2/10  0.504706      25.65                             0.00   \n",
            "2  1/3/10  0.473818      22.59                             0.00   \n",
            "3  1/4/10  0.444371      26.60                             0.00   \n",
            "4  1/5/10  0.416334      27.88                             0.00   \n",
            "\n",
            "    Mean Daily RH(%)   Mean Wind Speed(m/sec)   Mean Wind Direction(deg.)  \\\n",
            "0              76.29                     1.81                      307.18   \n",
            "1              51.96                     5.43                      312.81   \n",
            "2              54.65                     5.42                      303.22   \n",
            "3              63.31                     3.33                      308.85   \n",
            "4              58.42                     3.43                      310.59   \n",
            "\n",
            "    Daily Avg ST(*C)   soil_temp  solar_radiation  \n",
            "0               0.71      33.278      4851120.000  \n",
            "1               0.30      32.540      8124959.980  \n",
            "2              -0.11      31.802      5668260.005  \n",
            "3              -0.31      31.442      3897510.011  \n",
            "4              -0.35      31.370      6662519.991  \n"
          ]
        }
      ],
      "source": [
        "import pandas as pd\n",
        "\n",
        "# Load the data\n",
        "df = pd.read_csv('/content/drive/MyDrive/Final_bao/bao_final.csv',)\n",
        "\n",
        "# Display the first few rows of the DataFrame to understand its structure\n",
        "print(df.head())\n"
      ]
    },
    {
      "cell_type": "code",
      "source": [
        "df.dtypes"
      ],
      "metadata": {
        "colab": {
          "base_uri": "https://localhost:8080/"
        },
        "id": "LNzQyyVLcLyw",
        "outputId": "6c1c3ca2-ae5a-4bdf-a35d-7975779309bb"
      },
      "execution_count": 4,
      "outputs": [
        {
          "output_type": "execute_result",
          "data": {
            "text/plain": [
              "Date                                object\n",
              "NDVI                               float64\n",
              " air_temp                          float64\n",
              " Gage Precipitation (Daily)(in)    float64\n",
              " Mean Daily RH(%)                  float64\n",
              " Mean Wind Speed(m/sec)            float64\n",
              " Mean Wind Direction(deg.)         float64\n",
              " Daily Avg ST(*C)                  float64\n",
              " soil_temp                         float64\n",
              "solar_radiation                    float64\n",
              "dtype: object"
            ]
          },
          "metadata": {},
          "execution_count": 4
        }
      ]
    },
    {
      "cell_type": "markdown",
      "source": [
        "##converting date column into datatime"
      ],
      "metadata": {
        "id": "tB0AtLDRVNWb"
      }
    },
    {
      "cell_type": "code",
      "source": [
        "# Convert 'date' column to datetime and set as index\n",
        "df['Date'] = pd.to_datetime(df['Date'])\n",
        "df.set_index('Date', inplace=True)\n",
        "\n",
        "# Check for and handle missing values\n",
        "df.fillna(method='ffill', inplace=True)  # forward fill as an example\n",
        "\n",
        "# Print info to check data types and missing values\n",
        "print(df.info())\n",
        "\n"
      ],
      "metadata": {
        "colab": {
          "base_uri": "https://localhost:8080/"
        },
        "id": "I97aJTSfMssP",
        "outputId": "b6fb8858-c639-40ed-f216-3176a59d9231"
      },
      "execution_count": 5,
      "outputs": [
        {
          "output_type": "stream",
          "name": "stderr",
          "text": [
            "<ipython-input-5-eb4feb45e0d6>:2: UserWarning: Could not infer format, so each element will be parsed individually, falling back to `dateutil`. To ensure parsing is consistent and as-expected, please specify a format.\n",
            "  df['Date'] = pd.to_datetime(df['Date'])\n"
          ]
        },
        {
          "output_type": "stream",
          "name": "stdout",
          "text": [
            "<class 'pandas.core.frame.DataFrame'>\n",
            "DatetimeIndex: 5155 entries, 2010-01-01 to 2024-04-06\n",
            "Data columns (total 9 columns):\n",
            " #   Column                           Non-Null Count  Dtype  \n",
            "---  ------                           --------------  -----  \n",
            " 0   NDVI                             5155 non-null   float64\n",
            " 1    air_temp                        5155 non-null   float64\n",
            " 2    Gage Precipitation (Daily)(in)  5155 non-null   float64\n",
            " 3    Mean Daily RH(%)                5155 non-null   float64\n",
            " 4    Mean Wind Speed(m/sec)          5155 non-null   float64\n",
            " 5    Mean Wind Direction(deg.)       5155 non-null   float64\n",
            " 6    Daily Avg ST(*C)                5155 non-null   float64\n",
            " 7    soil_temp                       5155 non-null   float64\n",
            " 8   solar_radiation                  5155 non-null   float64\n",
            "dtypes: float64(9)\n",
            "memory usage: 402.7 KB\n",
            "None\n"
          ]
        }
      ]
    },
    {
      "cell_type": "code",
      "source": [
        "df"
      ],
      "metadata": {
        "colab": {
          "base_uri": "https://localhost:8080/",
          "height": 645
        },
        "id": "ShGlfDrJQfvO",
        "outputId": "5abc8661-8c48-4c77-80eb-8a693cad2baf"
      },
      "execution_count": 6,
      "outputs": [
        {
          "output_type": "execute_result",
          "data": {
            "text/plain": [
              "                NDVI   air_temp   Gage Precipitation (Daily)(in)  \\\n",
              "Date                                                               \n",
              "2010-01-01  0.537070      34.82                             0.02   \n",
              "2010-01-02  0.504706      25.65                             0.00   \n",
              "2010-01-03  0.473818      22.59                             0.00   \n",
              "2010-01-04  0.444371      26.60                             0.00   \n",
              "2010-01-05  0.416334      27.88                             0.00   \n",
              "...              ...        ...                              ...   \n",
              "2024-04-02  0.521906      45.28                             1.81   \n",
              "2024-04-03  0.524786      44.05                             0.48   \n",
              "2024-04-04  0.527528      43.84                             0.00   \n",
              "2024-04-05  0.530123      47.12                             0.00   \n",
              "2024-04-06  0.532565      51.53                             0.00   \n",
              "\n",
              "             Mean Daily RH(%)   Mean Wind Speed(m/sec)  \\\n",
              "Date                                                     \n",
              "2010-01-01              76.29                     1.81   \n",
              "2010-01-02              51.96                     5.43   \n",
              "2010-01-03              54.65                     5.42   \n",
              "2010-01-04              63.31                     3.33   \n",
              "2010-01-05              58.42                     3.43   \n",
              "...                       ...                      ...   \n",
              "2024-04-02              95.44                     4.56   \n",
              "2024-04-03              85.52                     1.53   \n",
              "2024-04-04              68.55                     2.22   \n",
              "2024-04-05              53.55                     3.15   \n",
              "2024-04-06              49.69                     1.88   \n",
              "\n",
              "             Mean Wind Direction(deg.)   Daily Avg ST(*C)   soil_temp  \\\n",
              "Date                                                                    \n",
              "2010-01-01                      307.18               0.71      33.278   \n",
              "2010-01-02                      312.81               0.30      32.540   \n",
              "2010-01-03                      303.22              -0.11      31.802   \n",
              "2010-01-04                      308.85              -0.31      31.442   \n",
              "2010-01-05                      310.59              -0.35      31.370   \n",
              "...                                ...                ...         ...   \n",
              "2024-04-02                       82.62               8.57      47.426   \n",
              "2024-04-03                      309.07               8.65      47.570   \n",
              "2024-04-04                      300.24               8.58      47.444   \n",
              "2024-04-05                      328.86               8.43      47.174   \n",
              "2024-04-06                      349.57              10.28      50.504   \n",
              "\n",
              "            solar_radiation  \n",
              "Date                         \n",
              "2010-01-01     4.851120e+06  \n",
              "2010-01-02     8.124960e+06  \n",
              "2010-01-03     5.668260e+06  \n",
              "2010-01-04     3.897510e+06  \n",
              "2010-01-05     6.662520e+06  \n",
              "...                     ...  \n",
              "2024-04-02     1.521765e+06  \n",
              "2024-04-03     1.052939e+07  \n",
              "2024-04-04     1.321709e+07  \n",
              "2024-04-05     1.683235e+07  \n",
              "2024-04-06     2.122226e+07  \n",
              "\n",
              "[5155 rows x 9 columns]"
            ],
            "text/html": [
              "\n",
              "  <div id=\"df-50f60bb2-b9da-41a6-9de4-1499f7438c1c\" class=\"colab-df-container\">\n",
              "    <div>\n",
              "<style scoped>\n",
              "    .dataframe tbody tr th:only-of-type {\n",
              "        vertical-align: middle;\n",
              "    }\n",
              "\n",
              "    .dataframe tbody tr th {\n",
              "        vertical-align: top;\n",
              "    }\n",
              "\n",
              "    .dataframe thead th {\n",
              "        text-align: right;\n",
              "    }\n",
              "</style>\n",
              "<table border=\"1\" class=\"dataframe\">\n",
              "  <thead>\n",
              "    <tr style=\"text-align: right;\">\n",
              "      <th></th>\n",
              "      <th>NDVI</th>\n",
              "      <th>air_temp</th>\n",
              "      <th>Gage Precipitation (Daily)(in)</th>\n",
              "      <th>Mean Daily RH(%)</th>\n",
              "      <th>Mean Wind Speed(m/sec)</th>\n",
              "      <th>Mean Wind Direction(deg.)</th>\n",
              "      <th>Daily Avg ST(*C)</th>\n",
              "      <th>soil_temp</th>\n",
              "      <th>solar_radiation</th>\n",
              "    </tr>\n",
              "    <tr>\n",
              "      <th>Date</th>\n",
              "      <th></th>\n",
              "      <th></th>\n",
              "      <th></th>\n",
              "      <th></th>\n",
              "      <th></th>\n",
              "      <th></th>\n",
              "      <th></th>\n",
              "      <th></th>\n",
              "      <th></th>\n",
              "    </tr>\n",
              "  </thead>\n",
              "  <tbody>\n",
              "    <tr>\n",
              "      <th>2010-01-01</th>\n",
              "      <td>0.537070</td>\n",
              "      <td>34.82</td>\n",
              "      <td>0.02</td>\n",
              "      <td>76.29</td>\n",
              "      <td>1.81</td>\n",
              "      <td>307.18</td>\n",
              "      <td>0.71</td>\n",
              "      <td>33.278</td>\n",
              "      <td>4.851120e+06</td>\n",
              "    </tr>\n",
              "    <tr>\n",
              "      <th>2010-01-02</th>\n",
              "      <td>0.504706</td>\n",
              "      <td>25.65</td>\n",
              "      <td>0.00</td>\n",
              "      <td>51.96</td>\n",
              "      <td>5.43</td>\n",
              "      <td>312.81</td>\n",
              "      <td>0.30</td>\n",
              "      <td>32.540</td>\n",
              "      <td>8.124960e+06</td>\n",
              "    </tr>\n",
              "    <tr>\n",
              "      <th>2010-01-03</th>\n",
              "      <td>0.473818</td>\n",
              "      <td>22.59</td>\n",
              "      <td>0.00</td>\n",
              "      <td>54.65</td>\n",
              "      <td>5.42</td>\n",
              "      <td>303.22</td>\n",
              "      <td>-0.11</td>\n",
              "      <td>31.802</td>\n",
              "      <td>5.668260e+06</td>\n",
              "    </tr>\n",
              "    <tr>\n",
              "      <th>2010-01-04</th>\n",
              "      <td>0.444371</td>\n",
              "      <td>26.60</td>\n",
              "      <td>0.00</td>\n",
              "      <td>63.31</td>\n",
              "      <td>3.33</td>\n",
              "      <td>308.85</td>\n",
              "      <td>-0.31</td>\n",
              "      <td>31.442</td>\n",
              "      <td>3.897510e+06</td>\n",
              "    </tr>\n",
              "    <tr>\n",
              "      <th>2010-01-05</th>\n",
              "      <td>0.416334</td>\n",
              "      <td>27.88</td>\n",
              "      <td>0.00</td>\n",
              "      <td>58.42</td>\n",
              "      <td>3.43</td>\n",
              "      <td>310.59</td>\n",
              "      <td>-0.35</td>\n",
              "      <td>31.370</td>\n",
              "      <td>6.662520e+06</td>\n",
              "    </tr>\n",
              "    <tr>\n",
              "      <th>...</th>\n",
              "      <td>...</td>\n",
              "      <td>...</td>\n",
              "      <td>...</td>\n",
              "      <td>...</td>\n",
              "      <td>...</td>\n",
              "      <td>...</td>\n",
              "      <td>...</td>\n",
              "      <td>...</td>\n",
              "      <td>...</td>\n",
              "    </tr>\n",
              "    <tr>\n",
              "      <th>2024-04-02</th>\n",
              "      <td>0.521906</td>\n",
              "      <td>45.28</td>\n",
              "      <td>1.81</td>\n",
              "      <td>95.44</td>\n",
              "      <td>4.56</td>\n",
              "      <td>82.62</td>\n",
              "      <td>8.57</td>\n",
              "      <td>47.426</td>\n",
              "      <td>1.521765e+06</td>\n",
              "    </tr>\n",
              "    <tr>\n",
              "      <th>2024-04-03</th>\n",
              "      <td>0.524786</td>\n",
              "      <td>44.05</td>\n",
              "      <td>0.48</td>\n",
              "      <td>85.52</td>\n",
              "      <td>1.53</td>\n",
              "      <td>309.07</td>\n",
              "      <td>8.65</td>\n",
              "      <td>47.570</td>\n",
              "      <td>1.052939e+07</td>\n",
              "    </tr>\n",
              "    <tr>\n",
              "      <th>2024-04-04</th>\n",
              "      <td>0.527528</td>\n",
              "      <td>43.84</td>\n",
              "      <td>0.00</td>\n",
              "      <td>68.55</td>\n",
              "      <td>2.22</td>\n",
              "      <td>300.24</td>\n",
              "      <td>8.58</td>\n",
              "      <td>47.444</td>\n",
              "      <td>1.321709e+07</td>\n",
              "    </tr>\n",
              "    <tr>\n",
              "      <th>2024-04-05</th>\n",
              "      <td>0.530123</td>\n",
              "      <td>47.12</td>\n",
              "      <td>0.00</td>\n",
              "      <td>53.55</td>\n",
              "      <td>3.15</td>\n",
              "      <td>328.86</td>\n",
              "      <td>8.43</td>\n",
              "      <td>47.174</td>\n",
              "      <td>1.683235e+07</td>\n",
              "    </tr>\n",
              "    <tr>\n",
              "      <th>2024-04-06</th>\n",
              "      <td>0.532565</td>\n",
              "      <td>51.53</td>\n",
              "      <td>0.00</td>\n",
              "      <td>49.69</td>\n",
              "      <td>1.88</td>\n",
              "      <td>349.57</td>\n",
              "      <td>10.28</td>\n",
              "      <td>50.504</td>\n",
              "      <td>2.122226e+07</td>\n",
              "    </tr>\n",
              "  </tbody>\n",
              "</table>\n",
              "<p>5155 rows × 9 columns</p>\n",
              "</div>\n",
              "    <div class=\"colab-df-buttons\">\n",
              "\n",
              "  <div class=\"colab-df-container\">\n",
              "    <button class=\"colab-df-convert\" onclick=\"convertToInteractive('df-50f60bb2-b9da-41a6-9de4-1499f7438c1c')\"\n",
              "            title=\"Convert this dataframe to an interactive table.\"\n",
              "            style=\"display:none;\">\n",
              "\n",
              "  <svg xmlns=\"http://www.w3.org/2000/svg\" height=\"24px\" viewBox=\"0 -960 960 960\">\n",
              "    <path d=\"M120-120v-720h720v720H120Zm60-500h600v-160H180v160Zm220 220h160v-160H400v160Zm0 220h160v-160H400v160ZM180-400h160v-160H180v160Zm440 0h160v-160H620v160ZM180-180h160v-160H180v160Zm440 0h160v-160H620v160Z\"/>\n",
              "  </svg>\n",
              "    </button>\n",
              "\n",
              "  <style>\n",
              "    .colab-df-container {\n",
              "      display:flex;\n",
              "      gap: 12px;\n",
              "    }\n",
              "\n",
              "    .colab-df-convert {\n",
              "      background-color: #E8F0FE;\n",
              "      border: none;\n",
              "      border-radius: 50%;\n",
              "      cursor: pointer;\n",
              "      display: none;\n",
              "      fill: #1967D2;\n",
              "      height: 32px;\n",
              "      padding: 0 0 0 0;\n",
              "      width: 32px;\n",
              "    }\n",
              "\n",
              "    .colab-df-convert:hover {\n",
              "      background-color: #E2EBFA;\n",
              "      box-shadow: 0px 1px 2px rgba(60, 64, 67, 0.3), 0px 1px 3px 1px rgba(60, 64, 67, 0.15);\n",
              "      fill: #174EA6;\n",
              "    }\n",
              "\n",
              "    .colab-df-buttons div {\n",
              "      margin-bottom: 4px;\n",
              "    }\n",
              "\n",
              "    [theme=dark] .colab-df-convert {\n",
              "      background-color: #3B4455;\n",
              "      fill: #D2E3FC;\n",
              "    }\n",
              "\n",
              "    [theme=dark] .colab-df-convert:hover {\n",
              "      background-color: #434B5C;\n",
              "      box-shadow: 0px 1px 3px 1px rgba(0, 0, 0, 0.15);\n",
              "      filter: drop-shadow(0px 1px 2px rgba(0, 0, 0, 0.3));\n",
              "      fill: #FFFFFF;\n",
              "    }\n",
              "  </style>\n",
              "\n",
              "    <script>\n",
              "      const buttonEl =\n",
              "        document.querySelector('#df-50f60bb2-b9da-41a6-9de4-1499f7438c1c button.colab-df-convert');\n",
              "      buttonEl.style.display =\n",
              "        google.colab.kernel.accessAllowed ? 'block' : 'none';\n",
              "\n",
              "      async function convertToInteractive(key) {\n",
              "        const element = document.querySelector('#df-50f60bb2-b9da-41a6-9de4-1499f7438c1c');\n",
              "        const dataTable =\n",
              "          await google.colab.kernel.invokeFunction('convertToInteractive',\n",
              "                                                    [key], {});\n",
              "        if (!dataTable) return;\n",
              "\n",
              "        const docLinkHtml = 'Like what you see? Visit the ' +\n",
              "          '<a target=\"_blank\" href=https://colab.research.google.com/notebooks/data_table.ipynb>data table notebook</a>'\n",
              "          + ' to learn more about interactive tables.';\n",
              "        element.innerHTML = '';\n",
              "        dataTable['output_type'] = 'display_data';\n",
              "        await google.colab.output.renderOutput(dataTable, element);\n",
              "        const docLink = document.createElement('div');\n",
              "        docLink.innerHTML = docLinkHtml;\n",
              "        element.appendChild(docLink);\n",
              "      }\n",
              "    </script>\n",
              "  </div>\n",
              "\n",
              "\n",
              "<div id=\"df-0383e50d-c95a-493f-b66f-10dd0443bf0d\">\n",
              "  <button class=\"colab-df-quickchart\" onclick=\"quickchart('df-0383e50d-c95a-493f-b66f-10dd0443bf0d')\"\n",
              "            title=\"Suggest charts\"\n",
              "            style=\"display:none;\">\n",
              "\n",
              "<svg xmlns=\"http://www.w3.org/2000/svg\" height=\"24px\"viewBox=\"0 0 24 24\"\n",
              "     width=\"24px\">\n",
              "    <g>\n",
              "        <path d=\"M19 3H5c-1.1 0-2 .9-2 2v14c0 1.1.9 2 2 2h14c1.1 0 2-.9 2-2V5c0-1.1-.9-2-2-2zM9 17H7v-7h2v7zm4 0h-2V7h2v10zm4 0h-2v-4h2v4z\"/>\n",
              "    </g>\n",
              "</svg>\n",
              "  </button>\n",
              "\n",
              "<style>\n",
              "  .colab-df-quickchart {\n",
              "      --bg-color: #E8F0FE;\n",
              "      --fill-color: #1967D2;\n",
              "      --hover-bg-color: #E2EBFA;\n",
              "      --hover-fill-color: #174EA6;\n",
              "      --disabled-fill-color: #AAA;\n",
              "      --disabled-bg-color: #DDD;\n",
              "  }\n",
              "\n",
              "  [theme=dark] .colab-df-quickchart {\n",
              "      --bg-color: #3B4455;\n",
              "      --fill-color: #D2E3FC;\n",
              "      --hover-bg-color: #434B5C;\n",
              "      --hover-fill-color: #FFFFFF;\n",
              "      --disabled-bg-color: #3B4455;\n",
              "      --disabled-fill-color: #666;\n",
              "  }\n",
              "\n",
              "  .colab-df-quickchart {\n",
              "    background-color: var(--bg-color);\n",
              "    border: none;\n",
              "    border-radius: 50%;\n",
              "    cursor: pointer;\n",
              "    display: none;\n",
              "    fill: var(--fill-color);\n",
              "    height: 32px;\n",
              "    padding: 0;\n",
              "    width: 32px;\n",
              "  }\n",
              "\n",
              "  .colab-df-quickchart:hover {\n",
              "    background-color: var(--hover-bg-color);\n",
              "    box-shadow: 0 1px 2px rgba(60, 64, 67, 0.3), 0 1px 3px 1px rgba(60, 64, 67, 0.15);\n",
              "    fill: var(--button-hover-fill-color);\n",
              "  }\n",
              "\n",
              "  .colab-df-quickchart-complete:disabled,\n",
              "  .colab-df-quickchart-complete:disabled:hover {\n",
              "    background-color: var(--disabled-bg-color);\n",
              "    fill: var(--disabled-fill-color);\n",
              "    box-shadow: none;\n",
              "  }\n",
              "\n",
              "  .colab-df-spinner {\n",
              "    border: 2px solid var(--fill-color);\n",
              "    border-color: transparent;\n",
              "    border-bottom-color: var(--fill-color);\n",
              "    animation:\n",
              "      spin 1s steps(1) infinite;\n",
              "  }\n",
              "\n",
              "  @keyframes spin {\n",
              "    0% {\n",
              "      border-color: transparent;\n",
              "      border-bottom-color: var(--fill-color);\n",
              "      border-left-color: var(--fill-color);\n",
              "    }\n",
              "    20% {\n",
              "      border-color: transparent;\n",
              "      border-left-color: var(--fill-color);\n",
              "      border-top-color: var(--fill-color);\n",
              "    }\n",
              "    30% {\n",
              "      border-color: transparent;\n",
              "      border-left-color: var(--fill-color);\n",
              "      border-top-color: var(--fill-color);\n",
              "      border-right-color: var(--fill-color);\n",
              "    }\n",
              "    40% {\n",
              "      border-color: transparent;\n",
              "      border-right-color: var(--fill-color);\n",
              "      border-top-color: var(--fill-color);\n",
              "    }\n",
              "    60% {\n",
              "      border-color: transparent;\n",
              "      border-right-color: var(--fill-color);\n",
              "    }\n",
              "    80% {\n",
              "      border-color: transparent;\n",
              "      border-right-color: var(--fill-color);\n",
              "      border-bottom-color: var(--fill-color);\n",
              "    }\n",
              "    90% {\n",
              "      border-color: transparent;\n",
              "      border-bottom-color: var(--fill-color);\n",
              "    }\n",
              "  }\n",
              "</style>\n",
              "\n",
              "  <script>\n",
              "    async function quickchart(key) {\n",
              "      const quickchartButtonEl =\n",
              "        document.querySelector('#' + key + ' button');\n",
              "      quickchartButtonEl.disabled = true;  // To prevent multiple clicks.\n",
              "      quickchartButtonEl.classList.add('colab-df-spinner');\n",
              "      try {\n",
              "        const charts = await google.colab.kernel.invokeFunction(\n",
              "            'suggestCharts', [key], {});\n",
              "      } catch (error) {\n",
              "        console.error('Error during call to suggestCharts:', error);\n",
              "      }\n",
              "      quickchartButtonEl.classList.remove('colab-df-spinner');\n",
              "      quickchartButtonEl.classList.add('colab-df-quickchart-complete');\n",
              "    }\n",
              "    (() => {\n",
              "      let quickchartButtonEl =\n",
              "        document.querySelector('#df-0383e50d-c95a-493f-b66f-10dd0443bf0d button');\n",
              "      quickchartButtonEl.style.display =\n",
              "        google.colab.kernel.accessAllowed ? 'block' : 'none';\n",
              "    })();\n",
              "  </script>\n",
              "</div>\n",
              "    </div>\n",
              "  </div>\n"
            ],
            "application/vnd.google.colaboratory.intrinsic+json": {
              "type": "dataframe",
              "variable_name": "df",
              "summary": "{\n  \"name\": \"df\",\n  \"rows\": 5155,\n  \"fields\": [\n    {\n      \"column\": \"Date\",\n      \"properties\": {\n        \"dtype\": \"date\",\n        \"min\": \"2010-01-01 00:00:00\",\n        \"max\": \"2024-04-06 00:00:00\",\n        \"num_unique_values\": 5155,\n        \"samples\": [\n          \"2021-09-16 00:00:00\",\n          \"2011-05-03 00:00:00\",\n          \"2021-03-13 00:00:00\"\n        ],\n        \"semantic_type\": \"\",\n        \"description\": \"\"\n      }\n    },\n    {\n      \"column\": \"NDVI\",\n      \"properties\": {\n        \"dtype\": \"number\",\n        \"std\": 0.1016758513068571,\n        \"min\": 0.079117108,\n        \"max\": 0.639878191,\n        \"num_unique_values\": 5155,\n        \"samples\": [\n          0.575240654,\n          0.491045808,\n          0.417757955\n        ],\n        \"semantic_type\": \"\",\n        \"description\": \"\"\n      }\n    },\n    {\n      \"column\": \" air_temp\",\n      \"properties\": {\n        \"dtype\": \"number\",\n        \"std\": 16.91451876514927,\n        \"min\": 7.7,\n        \"max\": 90.48,\n        \"num_unique_values\": 3428,\n        \"samples\": [\n          59.39,\n          38.72,\n          74.49\n        ],\n        \"semantic_type\": \"\",\n        \"description\": \"\"\n      }\n    },\n    {\n      \"column\": \" Gage Precipitation (Daily)(in)\",\n      \"properties\": {\n        \"dtype\": \"number\",\n        \"std\": 0.36933483536361805,\n        \"min\": 0.0,\n        \"max\": 5.46,\n        \"num_unique_values\": 192,\n        \"samples\": [\n          0.47,\n          0.84,\n          2.97\n        ],\n        \"semantic_type\": \"\",\n        \"description\": \"\"\n      }\n    },\n    {\n      \"column\": \" Mean Daily RH(%)\",\n      \"properties\": {\n        \"dtype\": \"number\",\n        \"std\": 13.95103751761149,\n        \"min\": 24.17,\n        \"max\": 100.0,\n        \"num_unique_values\": 3280,\n        \"samples\": [\n          33.16,\n          92.45,\n          88.76\n        ],\n        \"semantic_type\": \"\",\n        \"description\": \"\"\n      }\n    },\n    {\n      \"column\": \" Mean Wind Speed(m/sec)\",\n      \"properties\": {\n        \"dtype\": \"number\",\n        \"std\": 0.9129934854139319,\n        \"min\": 0.0,\n        \"max\": 7.31,\n        \"num_unique_values\": 471,\n        \"samples\": [\n          2.43,\n          1.86,\n          2.02\n        ],\n        \"semantic_type\": \"\",\n        \"description\": \"\"\n      }\n    },\n    {\n      \"column\": \" Mean Wind Direction(deg.)\",\n      \"properties\": {\n        \"dtype\": \"number\",\n        \"std\": 102.41431057022848,\n        \"min\": 0.0,\n        \"max\": 359.91,\n        \"num_unique_values\": 4621,\n        \"samples\": [\n          319.31,\n          202.99,\n          250.08\n        ],\n        \"semantic_type\": \"\",\n        \"description\": \"\"\n      }\n    },\n    {\n      \"column\": \" Daily Avg ST(*C)\",\n      \"properties\": {\n        \"dtype\": \"number\",\n        \"std\": 8.919456359109212,\n        \"min\": -1.51,\n        \"max\": 31.33,\n        \"num_unique_values\": 2444,\n        \"samples\": [\n          20.61,\n          19.6,\n          13.19\n        ],\n        \"semantic_type\": \"\",\n        \"description\": \"\"\n      }\n    },\n    {\n      \"column\": \" soil_temp\",\n      \"properties\": {\n        \"dtype\": \"number\",\n        \"std\": 16.055021446396584,\n        \"min\": 29.282,\n        \"max\": 88.394,\n        \"num_unique_values\": 2444,\n        \"samples\": [\n          69.098,\n          67.28,\n          55.742\n        ],\n        \"semantic_type\": \"\",\n        \"description\": \"\"\n      }\n    },\n    {\n      \"column\": \"solar_radiation\",\n      \"properties\": {\n        \"dtype\": \"number\",\n        \"std\": 7858405.233703338,\n        \"min\": 510055.3846,\n        \"max\": 43686349.96,\n        \"num_unique_values\": 5155,\n        \"samples\": [\n          11599111.61,\n          22315920.05,\n          20135777.82\n        ],\n        \"semantic_type\": \"\",\n        \"description\": \"\"\n      }\n    }\n  ]\n}"
            }
          },
          "metadata": {},
          "execution_count": 6
        }
      ]
    },
    {
      "cell_type": "markdown",
      "source": [
        "##plotting line graph for exploratory data analysis of NDVI"
      ],
      "metadata": {
        "id": "bEwyZ0dJVW3C"
      }
    },
    {
      "cell_type": "code",
      "source": [
        "import matplotlib.pyplot as plt\n",
        "\n",
        "# Plot NDVI\n",
        "plt.figure(figsize=(10, 5))\n",
        "plt.plot(df['NDVI'], label='NDVI')\n",
        "plt.title('NDVI Time Series')\n",
        "plt.xlabel('Date')\n",
        "plt.ylabel('NDVI')\n",
        "plt.legend()\n",
        "plt.show()\n"
      ],
      "metadata": {
        "colab": {
          "base_uri": "https://localhost:8080/",
          "height": 487
        },
        "id": "ru6qV8Q5Mueh",
        "outputId": "ef39a129-ed81-4d5b-b181-b1c9730dadaa"
      },
      "execution_count": 7,
      "outputs": [
        {
          "output_type": "display_data",
          "data": {
            "text/plain": [
              "<Figure size 1000x500 with 1 Axes>"
            ],
            "image/png": "[encoded data removed]"
          },
          "metadata": {}
        }
      ]
    },
    {
      "cell_type": "markdown",
      "source": [
        "## plotting autocorrelationa and partial autocorrelaton graph for figuring out hyperparameters of model"
      ],
      "metadata": {
        "id": "9D4Zc5m6Vd-v"
      }
    },
    {
      "cell_type": "code",
      "source": [
        "from statsmodels.graphics.tsaplots import plot_acf, plot_pacf\n",
        "\n",
        "# Plot ACF and PACF\n",
        "plot_acf(df['NDVI'])\n",
        "plot_pacf(df['NDVI'])\n",
        "plt.show()"
      ],
      "metadata": {
        "colab": {
          "base_uri": "https://localhost:8080/",
          "height": 887
        },
        "id": "3l-PPYPeMwcj",
        "outputId": "8b7593db-5417-4f99-c40f-4e4d55debaa5"
      },
      "execution_count": 8,
      "outputs": [
        {
          "output_type": "display_data",
          "data": {
            "text/plain": [
              "<Figure size 640x480 with 1 Axes>"
            ],
            "image/png": "[encoded data removed]"
          },
          "metadata": {}
        },
        {
          "output_type": "display_data",
          "data": {
            "text/plain": [
              "<Figure size 640x480 with 1 Axes>"
            ],
            "image/png": "[encoded data removed]"
          },
          "metadata": {}
        }
      ]
    },
    {
      "cell_type": "markdown",
      "source": [
        "##Test-train split"
      ],
      "metadata": {
        "id": "_lpFospXVqtT"
      }
    },
    {
      "cell_type": "code",
      "source": [
        "import pandas as pd\n",
        "\n",
        "# Assume df is your full DataFrame and it has a datetime index\n",
        "# Let's say we want to hold out the last 12 months of data for testing\n",
        "train = df.iloc[:-1031]  # All data except the last 12 months\n",
        "test = df.iloc[-1031:]   # Last 12 months for testing\n"
      ],
      "metadata": {
        "id": "X8mpzS9Nttuo"
      },
      "execution_count": 9,
      "outputs": []
    },
    {
      "cell_type": "code",
      "source": [
        "train"
      ],
      "metadata": {
        "colab": {
          "base_uri": "https://localhost:8080/",
          "height": 645
        },
        "id": "V1GrHAAAzBJm",
        "outputId": "bd613b88-1818-49e5-c2a0-a07654144c90"
      },
      "execution_count": 10,
      "outputs": [
        {
          "output_type": "execute_result",
          "data": {
            "text/plain": [
              "                NDVI   air_temp   Gage Precipitation (Daily)(in)  \\\n",
              "Date                                                               \n",
              "2010-01-01  0.537070      34.82                             0.02   \n",
              "2010-01-02  0.504706      25.65                             0.00   \n",
              "2010-01-03  0.473818      22.59                             0.00   \n",
              "2010-01-04  0.444371      26.60                             0.00   \n",
              "2010-01-05  0.416334      27.88                             0.00   \n",
              "...              ...        ...                              ...   \n",
              "2021-05-25  0.567649      73.26                             0.29   \n",
              "2021-05-26  0.568371      73.13                             0.00   \n",
              "2021-05-27  0.569077      61.95                             1.09   \n",
              "2021-05-28  0.569774      49.92                             1.43   \n",
              "2021-05-29  0.570471      49.16                             0.32   \n",
              "\n",
              "             Mean Daily RH(%)   Mean Wind Speed(m/sec)  \\\n",
              "Date                                                     \n",
              "2010-01-01              76.29                     1.81   \n",
              "2010-01-02              51.96                     5.43   \n",
              "2010-01-03              54.65                     5.42   \n",
              "2010-01-04              63.31                     3.33   \n",
              "2010-01-05              58.42                     3.43   \n",
              "...                       ...                      ...   \n",
              "2021-05-25              85.68                     1.55   \n",
              "2021-05-26              68.95                     1.51   \n",
              "2021-05-27              71.38                     3.17   \n",
              "2021-05-28              95.43                     3.31   \n",
              "2021-05-29              95.29                     1.94   \n",
              "\n",
              "             Mean Wind Direction(deg.)   Daily Avg ST(*C)   soil_temp  \\\n",
              "Date                                                                    \n",
              "2010-01-01                      307.18               0.71      33.278   \n",
              "2010-01-02                      312.81               0.30      32.540   \n",
              "2010-01-03                      303.22              -0.11      31.802   \n",
              "2010-01-04                      308.85              -0.31      31.442   \n",
              "2010-01-05                      310.59              -0.35      31.370   \n",
              "...                                ...                ...         ...   \n",
              "2021-05-25                      232.95              23.30      73.940   \n",
              "2021-05-26                      319.80              24.07      75.326   \n",
              "2021-05-27                       88.61              20.57      69.026   \n",
              "2021-05-28                       68.49              15.09      59.162   \n",
              "2021-05-29                       20.66              14.07      57.326   \n",
              "\n",
              "            solar_radiation  \n",
              "Date                         \n",
              "2010-01-01     4.851120e+06  \n",
              "2010-01-02     8.124960e+06  \n",
              "2010-01-03     5.668260e+06  \n",
              "2010-01-04     3.897510e+06  \n",
              "2010-01-05     6.662520e+06  \n",
              "...                     ...  \n",
              "2021-05-25     2.160685e+07  \n",
              "2021-05-26     2.870661e+07  \n",
              "2021-05-27     1.013598e+07  \n",
              "2021-05-28     4.685601e+06  \n",
              "2021-05-29     6.616687e+06  \n",
              "\n",
              "[4124 rows x 9 columns]"
            ],
            "text/html": [
              "\n",
              "  <div id=\"df-90098e65-ecd2-41a6-a53d-8c999acd8dd6\" class=\"colab-df-container\">\n",
              "    <div>\n",
              "<style scoped>\n",
              "    .dataframe tbody tr th:only-of-type {\n",
              "        vertical-align: middle;\n",
              "    }\n",
              "\n",
              "    .dataframe tbody tr th {\n",
              "        vertical-align: top;\n",
              "    }\n",
              "\n",
              "    .dataframe thead th {\n",
              "        text-align: right;\n",
              "    }\n",
              "</style>\n",
              "<table border=\"1\" class=\"dataframe\">\n",
              "  <thead>\n",
              "    <tr style=\"text-align: right;\">\n",
              "      <th></th>\n",
              "      <th>NDVI</th>\n",
              "      <th>air_temp</th>\n",
              "      <th>Gage Precipitation (Daily)(in)</th>\n",
              "      <th>Mean Daily RH(%)</th>\n",
              "      <th>Mean Wind Speed(m/sec)</th>\n",
              "      <th>Mean Wind Direction(deg.)</th>\n",
              "      <th>Daily Avg ST(*C)</th>\n",
              "      <th>soil_temp</th>\n",
              "      <th>solar_radiation</th>\n",
              "    </tr>\n",
              "    <tr>\n",
              "      <th>Date</th>\n",
              "      <th></th>\n",
              "      <th></th>\n",
              "      <th></th>\n",
              "      <th></th>\n",
              "      <th></th>\n",
              "      <th></th>\n",
              "      <th></th>\n",
              "      <th></th>\n",
              "      <th></th>\n",
              "    </tr>\n",
              "  </thead>\n",
              "  <tbody>\n",
              "    <tr>\n",
              "      <th>2010-01-01</th>\n",
              "      <td>0.537070</td>\n",
              "      <td>34.82</td>\n",
              "      <td>0.02</td>\n",
              "      <td>76.29</td>\n",
              "      <td>1.81</td>\n",
              "      <td>307.18</td>\n",
              "      <td>0.71</td>\n",
              "      <td>33.278</td>\n",
              "      <td>4.851120e+06</td>\n",
              "    </tr>\n",
              "    <tr>\n",
              "      <th>2010-01-02</th>\n",
              "      <td>0.504706</td>\n",
              "      <td>25.65</td>\n",
              "      <td>0.00</td>\n",
              "      <td>51.96</td>\n",
              "      <td>5.43</td>\n",
              "      <td>312.81</td>\n",
              "      <td>0.30</td>\n",
              "      <td>32.540</td>\n",
              "      <td>8.124960e+06</td>\n",
              "    </tr>\n",
              "    <tr>\n",
              "      <th>2010-01-03</th>\n",
              "      <td>0.473818</td>\n",
              "      <td>22.59</td>\n",
              "      <td>0.00</td>\n",
              "      <td>54.65</td>\n",
              "      <td>5.42</td>\n",
              "      <td>303.22</td>\n",
              "      <td>-0.11</td>\n",
              "      <td>31.802</td>\n",
              "      <td>5.668260e+06</td>\n",
              "    </tr>\n",
              "    <tr>\n",
              "      <th>2010-01-04</th>\n",
              "      <td>0.444371</td>\n",
              "      <td>26.60</td>\n",
              "      <td>0.00</td>\n",
              "      <td>63.31</td>\n",
              "      <td>3.33</td>\n",
              "      <td>308.85</td>\n",
              "      <td>-0.31</td>\n",
              "      <td>31.442</td>\n",
              "      <td>3.897510e+06</td>\n",
              "    </tr>\n",
              "    <tr>\n",
              "      <th>2010-01-05</th>\n",
              "      <td>0.416334</td>\n",
              "      <td>27.88</td>\n",
              "      <td>0.00</td>\n",
              "      <td>58.42</td>\n",
              "      <td>3.43</td>\n",
              "      <td>310.59</td>\n",
              "      <td>-0.35</td>\n",
              "      <td>31.370</td>\n",
              "      <td>6.662520e+06</td>\n",
              "    </tr>\n",
              "    <tr>\n",
              "      <th>...</th>\n",
              "      <td>...</td>\n",
              "      <td>...</td>\n",
              "      <td>...</td>\n",
              "      <td>...</td>\n",
              "      <td>...</td>\n",
              "      <td>...</td>\n",
              "      <td>...</td>\n",
              "      <td>...</td>\n",
              "      <td>...</td>\n",
              "    </tr>\n",
              "    <tr>\n",
              "      <th>2021-05-25</th>\n",
              "      <td>0.567649</td>\n",
              "      <td>73.26</td>\n",
              "      <td>0.29</td>\n",
              "      <td>85.68</td>\n",
              "      <td>1.55</td>\n",
              "      <td>232.95</td>\n",
              "      <td>23.30</td>\n",
              "      <td>73.940</td>\n",
              "      <td>2.160685e+07</td>\n",
              "    </tr>\n",
              "    <tr>\n",
              "      <th>2021-05-26</th>\n",
              "      <td>0.568371</td>\n",
              "      <td>73.13</td>\n",
              "      <td>0.00</td>\n",
              "      <td>68.95</td>\n",
              "      <td>1.51</td>\n",
              "      <td>319.80</td>\n",
              "      <td>24.07</td>\n",
              "      <td>75.326</td>\n",
              "      <td>2.870661e+07</td>\n",
              "    </tr>\n",
              "    <tr>\n",
              "      <th>2021-05-27</th>\n",
              "      <td>0.569077</td>\n",
              "      <td>61.95</td>\n",
              "      <td>1.09</td>\n",
              "      <td>71.38</td>\n",
              "      <td>3.17</td>\n",
              "      <td>88.61</td>\n",
              "      <td>20.57</td>\n",
              "      <td>69.026</td>\n",
              "      <td>1.013598e+07</td>\n",
              "    </tr>\n",
              "    <tr>\n",
              "      <th>2021-05-28</th>\n",
              "      <td>0.569774</td>\n",
              "      <td>49.92</td>\n",
              "      <td>1.43</td>\n",
              "      <td>95.43</td>\n",
              "      <td>3.31</td>\n",
              "      <td>68.49</td>\n",
              "      <td>15.09</td>\n",
              "      <td>59.162</td>\n",
              "      <td>4.685601e+06</td>\n",
              "    </tr>\n",
              "    <tr>\n",
              "      <th>2021-05-29</th>\n",
              "      <td>0.570471</td>\n",
              "      <td>49.16</td>\n",
              "      <td>0.32</td>\n",
              "      <td>95.29</td>\n",
              "      <td>1.94</td>\n",
              "      <td>20.66</td>\n",
              "      <td>14.07</td>\n",
              "      <td>57.326</td>\n",
              "      <td>6.616687e+06</td>\n",
              "    </tr>\n",
              "  </tbody>\n",
              "</table>\n",
              "<p>4124 rows × 9 columns</p>\n",
              "</div>\n",
              "    <div class=\"colab-df-buttons\">\n",
              "\n",
              "  <div class=\"colab-df-container\">\n",
              "    <button class=\"colab-df-convert\" onclick=\"convertToInteractive('df-90098e65-ecd2-41a6-a53d-8c999acd8dd6')\"\n",
              "            title=\"Convert this dataframe to an interactive table.\"\n",
              "            style=\"display:none;\">\n",
              "\n",
              "  <svg xmlns=\"http://www.w3.org/2000/svg\" height=\"24px\" viewBox=\"0 -960 960 960\">\n",
              "    <path d=\"M120-120v-720h720v720H120Zm60-500h600v-160H180v160Zm220 220h160v-160H400v160Zm0 220h160v-160H400v160ZM180-400h160v-160H180v160Zm440 0h160v-160H620v160ZM180-180h160v-160H180v160Zm440 0h160v-160H620v160Z\"/>\n",
              "  </svg>\n",
              "    </button>\n",
              "\n",
              "  <style>\n",
              "    .colab-df-container {\n",
              "      display:flex;\n",
              "      gap: 12px;\n",
              "    }\n",
              "\n",
              "    .colab-df-convert {\n",
              "      background-color: #E8F0FE;\n",
              "      border: none;\n",
              "      border-radius: 50%;\n",
              "      cursor: pointer;\n",
              "      display: none;\n",
              "      fill: #1967D2;\n",
              "      height: 32px;\n",
              "      padding: 0 0 0 0;\n",
              "      width: 32px;\n",
              "    }\n",
              "\n",
              "    .colab-df-convert:hover {\n",
              "      background-color: #E2EBFA;\n",
              "      box-shadow: 0px 1px 2px rgba(60, 64, 67, 0.3), 0px 1px 3px 1px rgba(60, 64, 67, 0.15);\n",
              "      fill: #174EA6;\n",
              "    }\n",
              "\n",
              "    .colab-df-buttons div {\n",
              "      margin-bottom: 4px;\n",
              "    }\n",
              "\n",
              "    [theme=dark] .colab-df-convert {\n",
              "      background-color: #3B4455;\n",
              "      fill: #D2E3FC;\n",
              "    }\n",
              "\n",
              "    [theme=dark] .colab-df-convert:hover {\n",
              "      background-color: #434B5C;\n",
              "      box-shadow: 0px 1px 3px 1px rgba(0, 0, 0, 0.15);\n",
              "      filter: drop-shadow(0px 1px 2px rgba(0, 0, 0, 0.3));\n",
              "      fill: #FFFFFF;\n",
              "    }\n",
              "  </style>\n",
              "\n",
              "    <script>\n",
              "      const buttonEl =\n",
              "        document.querySelector('#df-90098e65-ecd2-41a6-a53d-8c999acd8dd6 button.colab-df-convert');\n",
              "      buttonEl.style.display =\n",
              "        google.colab.kernel.accessAllowed ? 'block' : 'none';\n",
              "\n",
              "      async function convertToInteractive(key) {\n",
              "        const element = document.querySelector('#df-90098e65-ecd2-41a6-a53d-8c999acd8dd6');\n",
              "        const dataTable =\n",
              "          await google.colab.kernel.invokeFunction('convertToInteractive',\n",
              "                                                    [key], {});\n",
              "        if (!dataTable) return;\n",
              "\n",
              "        const docLinkHtml = 'Like what you see? Visit the ' +\n",
              "          '<a target=\"_blank\" href=https://colab.research.google.com/notebooks/data_table.ipynb>data table notebook</a>'\n",
              "          + ' to learn more about interactive tables.';\n",
              "        element.innerHTML = '';\n",
              "        dataTable['output_type'] = 'display_data';\n",
              "        await google.colab.output.renderOutput(dataTable, element);\n",
              "        const docLink = document.createElement('div');\n",
              "        docLink.innerHTML = docLinkHtml;\n",
              "        element.appendChild(docLink);\n",
              "      }\n",
              "    </script>\n",
              "  </div>\n",
              "\n",
              "\n",
              "<div id=\"df-01e72d74-3ba2-4135-bbbd-3791b814a864\">\n",
              "  <button class=\"colab-df-quickchart\" onclick=\"quickchart('df-01e72d74-3ba2-4135-bbbd-3791b814a864')\"\n",
              "            title=\"Suggest charts\"\n",
              "            style=\"display:none;\">\n",
              "\n",
              "<svg xmlns=\"http://www.w3.org/2000/svg\" height=\"24px\"viewBox=\"0 0 24 24\"\n",
              "     width=\"24px\">\n",
              "    <g>\n",
              "        <path d=\"M19 3H5c-1.1 0-2 .9-2 2v14c0 1.1.9 2 2 2h14c1.1 0 2-.9 2-2V5c0-1.1-.9-2-2-2zM9 17H7v-7h2v7zm4 0h-2V7h2v10zm4 0h-2v-4h2v4z\"/>\n",
              "    </g>\n",
              "</svg>\n",
              "  </button>\n",
              "\n",
              "<style>\n",
              "  .colab-df-quickchart {\n",
              "      --bg-color: #E8F0FE;\n",
              "      --fill-color: #1967D2;\n",
              "      --hover-bg-color: #E2EBFA;\n",
              "      --hover-fill-color: #174EA6;\n",
              "      --disabled-fill-color: #AAA;\n",
              "      --disabled-bg-color: #DDD;\n",
              "  }\n",
              "\n",
              "  [theme=dark] .colab-df-quickchart {\n",
              "      --bg-color: #3B4455;\n",
              "      --fill-color: #D2E3FC;\n",
              "      --hover-bg-color: #434B5C;\n",
              "      --hover-fill-color: #FFFFFF;\n",
              "      --disabled-bg-color: #3B4455;\n",
              "      --disabled-fill-color: #666;\n",
              "  }\n",
              "\n",
              "  .colab-df-quickchart {\n",
              "    background-color: var(--bg-color);\n",
              "    border: none;\n",
              "    border-radius: 50%;\n",
              "    cursor: pointer;\n",
              "    display: none;\n",
              "    fill: var(--fill-color);\n",
              "    height: 32px;\n",
              "    padding: 0;\n",
              "    width: 32px;\n",
              "  }\n",
              "\n",
              "  .colab-df-quickchart:hover {\n",
              "    background-color: var(--hover-bg-color);\n",
              "    box-shadow: 0 1px 2px rgba(60, 64, 67, 0.3), 0 1px 3px 1px rgba(60, 64, 67, 0.15);\n",
              "    fill: var(--button-hover-fill-color);\n",
              "  }\n",
              "\n",
              "  .colab-df-quickchart-complete:disabled,\n",
              "  .colab-df-quickchart-complete:disabled:hover {\n",
              "    background-color: var(--disabled-bg-color);\n",
              "    fill: var(--disabled-fill-color);\n",
              "    box-shadow: none;\n",
              "  }\n",
              "\n",
              "  .colab-df-spinner {\n",
              "    border: 2px solid var(--fill-color);\n",
              "    border-color: transparent;\n",
              "    border-bottom-color: var(--fill-color);\n",
              "    animation:\n",
              "      spin 1s steps(1) infinite;\n",
              "  }\n",
              "\n",
              "  @keyframes spin {\n",
              "    0% {\n",
              "      border-color: transparent;\n",
              "      border-bottom-color: var(--fill-color);\n",
              "      border-left-color: var(--fill-color);\n",
              "    }\n",
              "    20% {\n",
              "      border-color: transparent;\n",
              "      border-left-color: var(--fill-color);\n",
              "      border-top-color: var(--fill-color);\n",
              "    }\n",
              "    30% {\n",
              "      border-color: transparent;\n",
              "      border-left-color: var(--fill-color);\n",
              "      border-top-color: var(--fill-color);\n",
              "      border-right-color: var(--fill-color);\n",
              "    }\n",
              "    40% {\n",
              "      border-color: transparent;\n",
              "      border-right-color: var(--fill-color);\n",
              "      border-top-color: var(--fill-color);\n",
              "    }\n",
              "    60% {\n",
              "      border-color: transparent;\n",
              "      border-right-color: var(--fill-color);\n",
              "    }\n",
              "    80% {\n",
              "      border-color: transparent;\n",
              "      border-right-color: var(--fill-color);\n",
              "      border-bottom-color: var(--fill-color);\n",
              "    }\n",
              "    90% {\n",
              "      border-color: transparent;\n",
              "      border-bottom-color: var(--fill-color);\n",
              "    }\n",
              "  }\n",
              "</style>\n",
              "\n",
              "  <script>\n",
              "    async function quickchart(key) {\n",
              "      const quickchartButtonEl =\n",
              "        document.querySelector('#' + key + ' button');\n",
              "      quickchartButtonEl.disabled = true;  // To prevent multiple clicks.\n",
              "      quickchartButtonEl.classList.add('colab-df-spinner');\n",
              "      try {\n",
              "        const charts = await google.colab.kernel.invokeFunction(\n",
              "            'suggestCharts', [key], {});\n",
              "      } catch (error) {\n",
              "        console.error('Error during call to suggestCharts:', error);\n",
              "      }\n",
              "      quickchartButtonEl.classList.remove('colab-df-spinner');\n",
              "      quickchartButtonEl.classList.add('colab-df-quickchart-complete');\n",
              "    }\n",
              "    (() => {\n",
              "      let quickchartButtonEl =\n",
              "        document.querySelector('#df-01e72d74-3ba2-4135-bbbd-3791b814a864 button');\n",
              "      quickchartButtonEl.style.display =\n",
              "        google.colab.kernel.accessAllowed ? 'block' : 'none';\n",
              "    })();\n",
              "  </script>\n",
              "</div>\n",
              "    </div>\n",
              "  </div>\n"
            ],
            "application/vnd.google.colaboratory.intrinsic+json": {
              "type": "dataframe",
              "variable_name": "train",
              "summary": "{\n  \"name\": \"train\",\n  \"rows\": 4124,\n  \"fields\": [\n    {\n      \"column\": \"Date\",\n      \"properties\": {\n        \"dtype\": \"date\",\n        \"min\": \"2010-01-01 00:00:00\",\n        \"max\": \"2021-05-29 00:00:00\",\n        \"num_unique_values\": 4124,\n        \"samples\": [\n          \"2013-01-29 00:00:00\",\n          \"2014-12-01 00:00:00\",\n          \"2021-01-23 00:00:00\"\n        ],\n        \"semantic_type\": \"\",\n        \"description\": \"\"\n      }\n    },\n    {\n      \"column\": \"NDVI\",\n      \"properties\": {\n        \"dtype\": \"number\",\n        \"std\": 0.10485594149912794,\n        \"min\": 0.079117108,\n        \"max\": 0.639878191,\n        \"num_unique_values\": 4124,\n        \"samples\": [\n          0.365472483,\n          0.418181917,\n          0.371316469\n        ],\n        \"semantic_type\": \"\",\n        \"description\": \"\"\n      }\n    },\n    {\n      \"column\": \" air_temp\",\n      \"properties\": {\n        \"dtype\": \"number\",\n        \"std\": 17.140208160310635,\n        \"min\": 7.7,\n        \"max\": 90.48,\n        \"num_unique_values\": 2969,\n        \"samples\": [\n          81.13,\n          43.55,\n          81.45\n        ],\n        \"semantic_type\": \"\",\n        \"description\": \"\"\n      }\n    },\n    {\n      \"column\": \" Gage Precipitation (Daily)(in)\",\n      \"properties\": {\n        \"dtype\": \"number\",\n        \"std\": 0.366300488910349,\n        \"min\": 0.0,\n        \"max\": 5.46,\n        \"num_unique_values\": 177,\n        \"samples\": [\n          0.52,\n          0.47,\n          0.96\n        ],\n        \"semantic_type\": \"\",\n        \"description\": \"\"\n      }\n    },\n    {\n      \"column\": \" Mean Daily RH(%)\",\n      \"properties\": {\n        \"dtype\": \"number\",\n        \"std\": 13.974466866625804,\n        \"min\": 26.95,\n        \"max\": 100.0,\n        \"num_unique_values\": 2859,\n        \"samples\": [\n          88.28,\n          98.39,\n          91.64\n        ],\n        \"semantic_type\": \"\",\n        \"description\": \"\"\n      }\n    },\n    {\n      \"column\": \" Mean Wind Speed(m/sec)\",\n      \"properties\": {\n        \"dtype\": \"number\",\n        \"std\": 0.9265451777670425,\n        \"min\": 0.0,\n        \"max\": 7.31,\n        \"num_unique_values\": 458,\n        \"samples\": [\n          1.58,\n          2.09,\n          5.15\n        ],\n        \"semantic_type\": \"\",\n        \"description\": \"\"\n      }\n    },\n    {\n      \"column\": \" Mean Wind Direction(deg.)\",\n      \"properties\": {\n        \"dtype\": \"number\",\n        \"std\": 102.38542989943993,\n        \"min\": 0.0,\n        \"max\": 359.91,\n        \"num_unique_values\": 3779,\n        \"samples\": [\n          252.7,\n          350.49,\n          351.92\n        ],\n        \"semantic_type\": \"\",\n        \"description\": \"\"\n      }\n    },\n    {\n      \"column\": \" Daily Avg ST(*C)\",\n      \"properties\": {\n        \"dtype\": \"number\",\n        \"std\": 8.85707502349073,\n        \"min\": -1.51,\n        \"max\": 31.26,\n        \"num_unique_values\": 2206,\n        \"samples\": [\n          4.75,\n          26.94,\n          9.74\n        ],\n        \"semantic_type\": \"\",\n        \"description\": \"\"\n      }\n    },\n    {\n      \"column\": \" soil_temp\",\n      \"properties\": {\n        \"dtype\": \"number\",\n        \"std\": 15.942735042283312,\n        \"min\": 29.282,\n        \"max\": 88.268,\n        \"num_unique_values\": 2206,\n        \"samples\": [\n          40.55,\n          80.492,\n          49.532\n        ],\n        \"semantic_type\": \"\",\n        \"description\": \"\"\n      }\n    },\n    {\n      \"column\": \"solar_radiation\",\n      \"properties\": {\n        \"dtype\": \"number\",\n        \"std\": 7898962.610820604,\n        \"min\": 510055.3846,\n        \"max\": 43686349.96,\n        \"num_unique_values\": 4124,\n        \"samples\": [\n          6546329.989,\n          5160780.016,\n          11243815.33\n        ],\n        \"semantic_type\": \"\",\n        \"description\": \"\"\n      }\n    }\n  ]\n}"
            }
          },
          "metadata": {},
          "execution_count": 10
        }
      ]
    },
    {
      "cell_type": "markdown",
      "source": [
        "##Performed Augmented Dickey Fuller test for stationarity of dataset"
      ],
      "metadata": {
        "id": "SmDS3dDrVv-J"
      }
    },
    {
      "cell_type": "code",
      "source": [
        "from statsmodels.tsa.stattools import adfuller\n",
        "\n",
        "# Perform Augmented Dickey-Fuller test\n",
        "time_series = df['NDVI']\n",
        "result = adfuller(time_series.dropna())  # Ensure there are no NaN values in the series\n",
        "print('ADF Statistic: %f' % result[0])\n",
        "print('p-value: %f' % result[1])\n",
        "print('Critical Values:')\n",
        "for key, value in result[4].items():\n",
        "    print('\\t%s: %.3f' % (key, value))\n"
      ],
      "metadata": {
        "colab": {
          "base_uri": "https://localhost:8080/"
        },
        "id": "gz9IeERG9BBY",
        "outputId": "1032b80a-8d06-4def-a4f4-3c9ee4f480f4"
      },
      "execution_count": 11,
      "outputs": [
        {
          "output_type": "stream",
          "name": "stdout",
          "text": [
            "ADF Statistic: -7.244218\n",
            "p-value: 0.000000\n",
            "Critical Values:\n",
            "\t1%: -3.432\n",
            "\t5%: -2.862\n",
            "\t10%: -2.567\n"
          ]
        }
      ]
    },
    {
      "cell_type": "code",
      "source": [
        "pip install pmdarima"
      ],
      "metadata": {
        "colab": {
          "base_uri": "https://localhost:8080/"
        },
        "id": "LZgla7qUYCzU",
        "outputId": "746aceac-410c-4352-afff-aac12ebf3028"
      },
      "execution_count": 12,
      "outputs": [
        {
          "output_type": "stream",
          "name": "stdout",
          "text": [
            "Collecting pmdarima\n",
            "  Downloading pmdarima-2.0.4-cp310-cp310-manylinux_2_17_x86_64.manylinux2014_x86_64.manylinux_2_28_x86_64.whl (2.1 MB)\n",
            "\u001b[2K     \u001b[90m━━━━━━━━━━━━━━━━━━━━━━━━━━━━━━━━━━━━━━━━\u001b[0m \u001b[32m2.1/2.1 MB\u001b[0m \u001b[31m8.4 MB/s\u001b[0m eta \u001b[36m0:00:00\u001b[0m\n",
            "\u001b[?25hRequirement already satisfied: joblib>=0.11 in /usr/local/lib/python3.10/dist-packages (from pmdarima) (1.4.2)\n",
            "Requirement already satisfied: Cython!=0.29.18,!=0.29.31,>=0.29 in /usr/local/lib/python3.10/dist-packages (from pmdarima) (3.0.10)\n",
            "Requirement already satisfied: numpy>=1.21.2 in /usr/local/lib/python3.10/dist-packages (from pmdarima) (1.25.2)\n",
            "Requirement already satisfied: pandas>=0.19 in /usr/local/lib/python3.10/dist-packages (from pmdarima) (2.0.3)\n",
            "Requirement already satisfied: scikit-learn>=0.22 in /usr/local/lib/python3.10/dist-packages (from pmdarima) (1.2.2)\n",
            "Requirement already satisfied: scipy>=1.3.2 in /usr/local/lib/python3.10/dist-packages (from pmdarima) (1.11.4)\n",
            "Requirement already satisfied: statsmodels>=0.13.2 in /usr/local/lib/python3.10/dist-packages (from pmdarima) (0.14.2)\n",
            "Requirement already satisfied: urllib3 in /usr/local/lib/python3.10/dist-packages (from pmdarima) (2.0.7)\n",
            "Requirement already satisfied: setuptools!=50.0.0,>=38.6.0 in /usr/local/lib/python3.10/dist-packages (from pmdarima) (67.7.2)\n",
            "Requirement already satisfied: packaging>=17.1 in /usr/local/lib/python3.10/dist-packages (from pmdarima) (24.0)\n",
            "Requirement already satisfied: python-dateutil>=2.8.2 in /usr/local/lib/python3.10/dist-packages (from pandas>=0.19->pmdarima) (2.8.2)\n",
            "Requirement already satisfied: pytz>=2020.1 in /usr/local/lib/python3.10/dist-packages (from pandas>=0.19->pmdarima) (2023.4)\n",
            "Requirement already satisfied: tzdata>=2022.1 in /usr/local/lib/python3.10/dist-packages (from pandas>=0.19->pmdarima) (2024.1)\n",
            "Requirement already satisfied: threadpoolctl>=2.0.0 in /usr/local/lib/python3.10/dist-packages (from scikit-learn>=0.22->pmdarima) (3.5.0)\n",
            "Requirement already satisfied: patsy>=0.5.6 in /usr/local/lib/python3.10/dist-packages (from statsmodels>=0.13.2->pmdarima) (0.5.6)\n",
            "Requirement already satisfied: six in /usr/local/lib/python3.10/dist-packages (from patsy>=0.5.6->statsmodels>=0.13.2->pmdarima) (1.16.0)\n",
            "Installing collected packages: pmdarima\n",
            "Successfully installed pmdarima-2.0.4\n"
          ]
        }
      ]
    },
    {
      "cell_type": "markdown",
      "source": [
        "## Running auto_arima to figure out hyperparameters"
      ],
      "metadata": {
        "id": "fPqCn_JsaaYw"
      }
    },
    {
      "cell_type": "code",
      "source": [
        "# Assuming 'NDVI' is the column we need to forecast\n",
        "ndvi_series = df['NDVI']\n",
        "\n",
        "from pmdarima import auto_arima\n",
        "from pmdarima import auto_arima\n",
        "\n",
        "# Finding the best SARIMA parameters\n",
        "sarima_model = auto_arima(ndvi_series, seasonal=True, m=12, trace=True,\n",
        "                          error_action='ignore', suppress_warnings=True,\n",
        "                          stepwise=True)\n",
        "\n",
        "print(sarima_model.summary())"
      ],
      "metadata": {
        "colab": {
          "base_uri": "https://localhost:8080/"
        },
        "id": "ODb5UR8CWF83",
        "outputId": "8e821b9e-f8b3-4ecf-eebc-eb14dad45167"
      },
      "execution_count": null,
      "outputs": [
        {
          "output_type": "stream",
          "name": "stdout",
          "text": [
            "Performing stepwise search to minimize aic\n",
            " ARIMA(2,1,2)(1,0,1)[12] intercept   : AIC=-63621.287, Time=33.69 sec\n",
            " ARIMA(0,1,0)(0,0,0)[12] intercept   : AIC=-47108.842, Time=5.17 sec\n",
            " ARIMA(1,1,0)(1,0,0)[12] intercept   : AIC=-62191.657, Time=18.89 sec\n",
            " ARIMA(0,1,1)(0,0,1)[12] intercept   : AIC=-54637.170, Time=23.86 sec\n",
            " ARIMA(0,1,0)(0,0,0)[12]             : AIC=-47110.842, Time=1.08 sec\n",
            " ARIMA(2,1,2)(0,0,1)[12] intercept   : AIC=-62264.068, Time=26.60 sec\n"
          ]
        }
      ]
    },
    {
      "cell_type": "markdown",
      "source": [
        "## Fitting SARIMA model"
      ],
      "metadata": {
        "id": "6GhQidYJagbx"
      }
    },
    {
      "cell_type": "code",
      "source": [
        "from statsmodels.tsa.statespace.sarimax import SARIMAX\n",
        "\n",
        "# SARIMA Model\n",
        "model = SARIMAX(train['NDVI'], order=(2,1,2), seasonal_order=(0,0,0,12))\n",
        "results = model.fit()\n",
        "\n",
        "# Summary of the model\n",
        "print(results.summary())\n"
      ],
      "metadata": {
        "id": "nyH2b_5bMztL"
      },
      "execution_count": null,
      "outputs": []
    },
    {
      "cell_type": "markdown",
      "source": [
        "##Forecasting NDVI"
      ],
      "metadata": {
        "id": "vtXSRreBalkY"
      }
    },
    {
      "cell_type": "code",
      "source": [
        "# Forecast\n",
        "forecast = results.get_forecast(steps=1031)  # Adjust steps according to needed forecast length\n",
        "forecast_df = forecast.conf_int()\n",
        "forecast_df['mean'] = forecast.predicted_mean"
      ],
      "metadata": {
        "id": "3VV_Z41cOnQu"
      },
      "execution_count": null,
      "outputs": []
    },
    {
      "cell_type": "code",
      "source": [
        "import pandas as pd\n",
        "\n",
        "# Suppose the last date in your observed data is '2021-05-29'\n",
        "last_obs_date = pd.to_datetime('2021-05-29')\n",
        "\n",
        "# Generate a date range for the forecast period\n",
        "# Assuming monthly forecasts for the next 12 months\n",
        "forecast_dates = pd.date_range(start=last_obs_date + pd.DateOffset(days=1), periods=1031, freq='D')\n",
        "\n",
        "# Assuming 'forecast_df' is your DataFrame with forecasted values but without a date index\n",
        "forecast_df['Date'] = forecast_dates\n",
        "\n",
        "# Set the new date column as the index of the DataFrame\n",
        "forecast_df.set_index('Date', inplace=True)\n",
        "\n",
        "# Now 'forecast_df' has the dates as its index, matching each forecasted value to a date"
      ],
      "metadata": {
        "id": "5HhvlKv80TlN"
      },
      "execution_count": null,
      "outputs": []
    },
    {
      "cell_type": "code",
      "source": [
        "forecast_df"
      ],
      "metadata": {
        "id": "AJ2iV9ozPpTC"
      },
      "execution_count": null,
      "outputs": []
    },
    {
      "cell_type": "markdown",
      "source": [
        "##Plotting observed and forecast data"
      ],
      "metadata": {
        "id": "T4xwwmmPaux_"
      }
    },
    {
      "cell_type": "code",
      "source": [
        "# Plot forecast\n",
        "plt.figure(figsize=(10, 5))\n",
        "plt.plot(train['NDVI'], label='Observed')\n",
        "plt.plot(forecast_df['mean'], label='Forecast', color='r')\n",
        "#plt.fill_between(forecast_df.index, forecast_df.iloc[:, 0], forecast_df.iloc[:, 1], color='pink')\n",
        "plt.title('NDVI Forecast')\n",
        "plt.xlabel('Date')\n",
        "plt.ylabel('NDVI')\n",
        "plt.legend()\n",
        "plt.show()"
      ],
      "metadata": {
        "id": "PgH-4MPwPHcX"
      },
      "execution_count": null,
      "outputs": []
    },
    {
      "cell_type": "code",
      "source": [
        "# Plot forecast\n",
        "plt.figure(figsize=(10, 5))\n",
        "plt.plot(test['NDVI'], label='Observed')\n",
        "plt.plot(forecast_df['mean'], label='Forecast', color='r')\n",
        "#plt.fill_between(forecast_df.index, forecast_df.iloc[:, 0], forecast_df.iloc[:, 1], color='pink')\n",
        "plt.title('NDVI Forecast')\n",
        "plt.xlabel('Date')\n",
        "plt.ylabel('NDVI')\n",
        "plt.legend()\n",
        "plt.show()"
      ],
      "metadata": {
        "id": "NLpOiMWWCNo0"
      },
      "execution_count": null,
      "outputs": []
    },
    {
      "cell_type": "code",
      "source": [
        "import numpy as np\n",
        "from sklearn.metrics import mean_squared_error, mean_absolute_error, r2_score\n",
        "\n",
        "# Sample Data: Replace these with your actual and forecasted dataframes\n",
        "# Let's assume 'actual' and 'forecasted' are pandas Series with the observed and predicted NDVI values.\n",
        "actual = pd.Series(df['NDVI'].values)\n",
        "forecasted = pd.Series(forecast_df['mean'].values)"
      ],
      "metadata": {
        "id": "qP6Mm_hP6S7o"
      },
      "execution_count": null,
      "outputs": []
    },
    {
      "cell_type": "markdown",
      "source": [
        "## Model evaluation metrices calculation"
      ],
      "metadata": {
        "id": "_JgaWF40a2yt"
      }
    },
    {
      "cell_type": "code",
      "source": [
        "from sklearn.metrics import mean_squared_error, mean_absolute_error\n",
        "from numpy import sqrt\n",
        "from sklearn.metrics import r2_score\n",
        "\n",
        "mae = mean_absolute_error(test['NDVI'], forecast_df['mean'])\n",
        "mse = mean_squared_error(test['NDVI'], forecast_df['mean'])\n",
        "rmse = sqrt(mse)\n",
        "r2 = r2_score(test['NDVI'], forecast_df['mean'])\n",
        "print('R^2:', r2)\n",
        "\n",
        "\n",
        "print('Mean Absolute Error:', mae)\n",
        "print('Mean Squared Error:', mse)\n",
        "print('Root Mean Squared Error:', rmse)\n",
        "\n"
      ],
      "metadata": {
        "id": "8kLcUUOZuDCf"
      },
      "execution_count": null,
      "outputs": []
    },
    {
      "cell_type": "code",
      "source": [
        "print(\"AIC:\", results.aic)\n"
      ],
      "metadata": {
        "id": "Wuz86xyqEtuN"
      },
      "execution_count": null,
      "outputs": []
    },
    {
      "cell_type": "markdown",
      "source": [
        "##LSTM model"
      ],
      "metadata": {
        "id": "lsus4m2Hb0oI"
      }
    },
    {
      "cell_type": "markdown",
      "source": [
        "##Importing packages, normalization, train test splitting"
      ],
      "metadata": {
        "id": "4IMIM8sybBuu"
      }
    },
    {
      "cell_type": "code",
      "source": [
        "import pandas as pd\n",
        "import numpy as np\n",
        "from sklearn.preprocessing import MinMaxScaler\n",
        "\n",
        "# Load the dataset\n",
        "#df = pd.read_csv('path_to_bao_final.csv')  # Update the path to where you stored 'bao_final.csv'\n",
        "#df['date'] = pd.to_datetime(df['date'])\n",
        "#df.set_index('date', inplace=True)\n",
        "\n",
        "# We will use NDVI values, assuming 'NDVI' is the column name\n",
        "ndvi_series = df['NDVI'].values\n",
        "\n",
        "# Normalize features\n",
        "scaler = MinMaxScaler(feature_range=(0, 1))\n",
        "ndvi_series_scaled = scaler.fit_transform(ndvi_series.reshape(-1, 1))\n",
        "\n",
        "# Split into training and test sets\n",
        "split_percent = 0.80\n",
        "split = int(split_percent*len(ndvi_series_scaled))\n",
        "ndvi_train = ndvi_series_scaled[:split]\n",
        "ndvi_test = ndvi_series_scaled[split:]\n",
        "\n",
        "# Convert an array of values into a dataset matrix\n",
        "def to_supervised(data, n_input, n_output=1):\n",
        "    X, y = [], []\n",
        "    for i in range(len(data) - n_input - n_output + 1):\n",
        "        X.append(data[i:(i+n_input), 0])\n",
        "        y.append(data[(i+n_input):(i+n_input+n_output), 0])\n",
        "    return np.array(X), np.array(y)\n",
        "\n",
        "n_input = 3\n",
        "n_output = 1\n",
        "X_train, y_train = to_supervised(ndvi_train, n_input, n_output)\n",
        "X_test, y_test = to_supervised(ndvi_test, n_input, n_output)\n",
        "\n",
        "# Reshape input to be [samples, time steps, features]\n",
        "X_train = X_train.reshape((X_train.shape[0], X_train.shape[1], 1))\n",
        "X_test = X_test.reshape((X_test.shape[0], X_test.shape[1], 1))\n"
      ],
      "metadata": {
        "id": "R7WBXt8ob2t9"
      },
      "execution_count": null,
      "outputs": []
    },
    {
      "cell_type": "markdown",
      "source": [
        "## Fit model"
      ],
      "metadata": {
        "id": "GH5P4Ab9bMUG"
      }
    },
    {
      "cell_type": "code",
      "source": [
        "from tensorflow.keras.models import Sequential\n",
        "from tensorflow.keras.layers import LSTM, Dense\n",
        "\n",
        "# Build the LSTM model\n",
        "model = Sequential()\n",
        "model.add(LSTM(30, activation='relu', input_shape=(n_input, 1), dropout=0.1, recurrent_dropout=0.2))\n",
        "model.add(Dense(n_output))\n",
        "model.compile(optimizer='adam', loss='mse')\n",
        "\n",
        "# Summary of the LSTM model\n",
        "model.summary()\n"
      ],
      "metadata": {
        "id": "VYp04DNvb7HT"
      },
      "execution_count": null,
      "outputs": []
    },
    {
      "cell_type": "code",
      "source": [
        "# Fit the model\n",
        "model.fit(X_train, y_train, epochs=45, batch_size=72, validation_data=(X_test, y_test), verbose=2, shuffle=False)\n"
      ],
      "metadata": {
        "id": "osBbtk3Ub934"
      },
      "execution_count": null,
      "outputs": []
    },
    {
      "cell_type": "code",
      "source": [
        "# Make predictions\n",
        "predictions = model.predict(X_test)\n",
        "\n",
        "# Invert scaling to go back to original scale\n",
        "predictions = scaler.inverse_transform(predictions)\n",
        "actuals = scaler.inverse_transform(y_test.reshape(-1, 1))\n",
        "\n",
        "# Calculate RMSE or other performance metrics\n",
        "from sklearn.metrics import mean_squared_error\n",
        "from math import sqrt\n",
        "\n",
        "rmse = sqrt(mean_squared_error(actuals, predictions))\n",
        "print('Test RMSE: %.3f' % rmse)\n"
      ],
      "metadata": {
        "id": "_KSer82ycA4E"
      },
      "execution_count": null,
      "outputs": []
    },
    {
      "cell_type": "markdown",
      "source": [
        "## Plotting actual and predicted values"
      ],
      "metadata": {
        "id": "sukJPWBBbRVx"
      }
    },
    {
      "cell_type": "code",
      "source": [
        "import matplotlib.pyplot as plt\n",
        "\n",
        "# Plot actual vs predicted values\n",
        "plt.plot(actuals, label='Actual NDVI')\n",
        "plt.plot(predictions, label='Predicted NDVI', alpha=0.7)\n",
        "plt.title('NDVI Forecast')\n",
        "plt.xlabel('Time')\n",
        "plt.ylabel('NDVI')\n",
        "plt.legend()\n",
        "plt.show()\n"
      ],
      "metadata": {
        "id": "ogoHEpFEcDfi"
      },
      "execution_count": null,
      "outputs": []
    },
    {
      "cell_type": "code",
      "source": [
        "from sklearn.metrics import mean_squared_error, mean_absolute_error, r2_score\n",
        "from math import sqrt\n"
      ],
      "metadata": {
        "id": "VFEjTGQAdsO0"
      },
      "execution_count": null,
      "outputs": []
    },
    {
      "cell_type": "markdown",
      "source": [
        "## Calculating model performance metrices"
      ],
      "metadata": {
        "id": "osDCJ2b2bVXh"
      }
    },
    {
      "cell_type": "code",
      "source": [
        "# Assuming 'predictions' and 'actuals' are your model's output and true values, respectively\n",
        "\n",
        "# Calculate MSE\n",
        "mse = mean_squared_error(actuals, predictions)\n",
        "\n",
        "# Calculate RMSE\n",
        "rmse = sqrt(mse)\n",
        "\n",
        "# Calculate MAE\n",
        "mae = mean_absolute_error(actuals, predictions)\n",
        "\n",
        "# Calculate R² Score\n",
        "r2 = r2_score(actuals, predictions)\n",
        "\n",
        "# Print the metrics\n",
        "print(f'Mean Squared Error (MSE): {mse:.3f}')\n",
        "print(f'Root Mean Squared Error (RMSE): {rmse:.3f}')\n",
        "print(f'Mean Absolute Error (MAE): {mae:.3f}')\n",
        "print(f'R-squared (R²): {r2:.3f}')\n"
      ],
      "metadata": {
        "id": "n_EXDxY2dvLy"
      },
      "execution_count": null,
      "outputs": []
    }
  ]
}